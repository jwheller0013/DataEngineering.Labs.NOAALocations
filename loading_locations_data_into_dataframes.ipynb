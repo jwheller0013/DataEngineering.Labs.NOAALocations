{
 "cells": [
  {
   "cell_type": "code",
   "execution_count": 2,
   "metadata": {},
   "outputs": [],
   "source": [
    "import pandas as pd\n",
    "import os\n",
    "import json"
   ]
  },
  {
   "cell_type": "markdown",
   "metadata": {},
   "source": [
    "## Read a single JSON"
   ]
  },
  {
   "cell_type": "markdown",
   "metadata": {},
   "source": [
    "Define a function called read_json. Given a string representing a file path to a json file, this function should open said file and convert its contens into a json object."
   ]
  },
  {
   "cell_type": "code",
   "execution_count": 3,
   "metadata": {},
   "outputs": [],
   "source": [
    "# implement me\n",
    "def read_json(file_path):\n",
    "    pass\n",
    "    try:\n",
    "        with open(file_path, 'r') as file:\n",
    "            data = json.load(file)\n",
    "        return data\n",
    "    except FileNotFoundError:\n",
    "        print(f\"Error file not found\")\n",
    "        return None\n",
    "    except json.JSONDecodeError:\n",
    "        print(f\"Error could not decode\")\n",
    "        return None\n",
    "    except Exception as e:\n",
    "        print(f\"Unexpected error: {e}\")\n",
    "        return None"
   ]
  },
  {
   "cell_type": "markdown",
   "metadata": {},
   "source": [
    "Use the read_json function defined above to read the contents of one of the locations_4.json file acquired in the Data Acquisition Lab."
   ]
  },
  {
   "cell_type": "code",
   "execution_count": 4,
   "metadata": {},
   "outputs": [],
   "source": [
    "file_path = os.path.join('./', 'data', 'locations', 'locations_4.json')\n",
    "json_contents = read_json(file_path)"
   ]
  },
  {
   "cell_type": "markdown",
   "metadata": {},
   "source": [
    "Display the value of the json_contents variable defined above."
   ]
  },
  {
   "cell_type": "code",
   "execution_count": 5,
   "metadata": {},
   "outputs": [],
   "source": [
    "#json_contents\n",
    "\n",
    "#uncomment above to see it but realize it is long"
   ]
  },
  {
   "cell_type": "markdown",
   "metadata": {},
   "source": [
    "## Convert JSON Into a DataFrame"
   ]
  },
  {
   "cell_type": "markdown",
   "metadata": {},
   "source": [
    "Using the json_contents variable, create a Pandas dataframe."
   ]
  },
  {
   "cell_type": "code",
   "execution_count": 6,
   "metadata": {},
   "outputs": [],
   "source": [
    "# Create DataFrame here.\n",
    "contents_dataframe = pd.DataFrame(json_contents['results'])"
   ]
  },
  {
   "cell_type": "markdown",
   "metadata": {},
   "source": [
    "Display the contents of the DataFrame. "
   ]
  },
  {
   "cell_type": "code",
   "execution_count": 7,
   "metadata": {},
   "outputs": [
    {
     "data": {
      "text/html": [
       "<div>\n",
       "<style scoped>\n",
       "    .dataframe tbody tr th:only-of-type {\n",
       "        vertical-align: middle;\n",
       "    }\n",
       "\n",
       "    .dataframe tbody tr th {\n",
       "        vertical-align: top;\n",
       "    }\n",
       "\n",
       "    .dataframe thead th {\n",
       "        text-align: right;\n",
       "    }\n",
       "</style>\n",
       "<table border=\"1\" class=\"dataframe\">\n",
       "  <thead>\n",
       "    <tr style=\"text-align: right;\">\n",
       "      <th></th>\n",
       "      <th>mindate</th>\n",
       "      <th>maxdate</th>\n",
       "      <th>name</th>\n",
       "      <th>datacoverage</th>\n",
       "      <th>id</th>\n",
       "    </tr>\n",
       "  </thead>\n",
       "  <tbody>\n",
       "    <tr>\n",
       "      <th>0</th>\n",
       "      <td>1913-06-08</td>\n",
       "      <td>2025-04-09</td>\n",
       "      <td>Petroleum County, MT</td>\n",
       "      <td>1</td>\n",
       "      <td>FIPS:30069</td>\n",
       "    </tr>\n",
       "    <tr>\n",
       "      <th>1</th>\n",
       "      <td>1905-05-08</td>\n",
       "      <td>2025-04-09</td>\n",
       "      <td>Phillips County, MT</td>\n",
       "      <td>1</td>\n",
       "      <td>FIPS:30071</td>\n",
       "    </tr>\n",
       "    <tr>\n",
       "      <th>2</th>\n",
       "      <td>1911-03-01</td>\n",
       "      <td>2025-04-09</td>\n",
       "      <td>Pondera County, MT</td>\n",
       "      <td>1</td>\n",
       "      <td>FIPS:30073</td>\n",
       "    </tr>\n",
       "    <tr>\n",
       "      <th>3</th>\n",
       "      <td>1893-02-01</td>\n",
       "      <td>2025-04-09</td>\n",
       "      <td>Powder River County, MT</td>\n",
       "      <td>1</td>\n",
       "      <td>FIPS:30075</td>\n",
       "    </tr>\n",
       "    <tr>\n",
       "      <th>4</th>\n",
       "      <td>1893-01-01</td>\n",
       "      <td>2025-04-09</td>\n",
       "      <td>Powell County, MT</td>\n",
       "      <td>1</td>\n",
       "      <td>FIPS:30077</td>\n",
       "    </tr>\n",
       "    <tr>\n",
       "      <th>...</th>\n",
       "      <td>...</td>\n",
       "      <td>...</td>\n",
       "      <td>...</td>\n",
       "      <td>...</td>\n",
       "      <td>...</td>\n",
       "    </tr>\n",
       "    <tr>\n",
       "      <th>995</th>\n",
       "      <td>1912-09-01</td>\n",
       "      <td>2025-04-09</td>\n",
       "      <td>Goliad County, TX</td>\n",
       "      <td>1</td>\n",
       "      <td>FIPS:48175</td>\n",
       "    </tr>\n",
       "    <tr>\n",
       "      <th>996</th>\n",
       "      <td>1915-04-01</td>\n",
       "      <td>2025-04-09</td>\n",
       "      <td>Gonzales County, TX</td>\n",
       "      <td>1</td>\n",
       "      <td>FIPS:48177</td>\n",
       "    </tr>\n",
       "    <tr>\n",
       "      <th>997</th>\n",
       "      <td>1907-01-27</td>\n",
       "      <td>2025-04-09</td>\n",
       "      <td>Gray County, TX</td>\n",
       "      <td>1</td>\n",
       "      <td>FIPS:48179</td>\n",
       "    </tr>\n",
       "    <tr>\n",
       "      <th>998</th>\n",
       "      <td>1897-05-01</td>\n",
       "      <td>2025-04-09</td>\n",
       "      <td>Grayson County, TX</td>\n",
       "      <td>1</td>\n",
       "      <td>FIPS:48181</td>\n",
       "    </tr>\n",
       "    <tr>\n",
       "      <th>999</th>\n",
       "      <td>1902-01-01</td>\n",
       "      <td>2025-04-09</td>\n",
       "      <td>Gregg County, TX</td>\n",
       "      <td>1</td>\n",
       "      <td>FIPS:48183</td>\n",
       "    </tr>\n",
       "  </tbody>\n",
       "</table>\n",
       "<p>1000 rows × 5 columns</p>\n",
       "</div>"
      ],
      "text/plain": [
       "        mindate     maxdate                     name  datacoverage          id\n",
       "0    1913-06-08  2025-04-09     Petroleum County, MT             1  FIPS:30069\n",
       "1    1905-05-08  2025-04-09      Phillips County, MT             1  FIPS:30071\n",
       "2    1911-03-01  2025-04-09       Pondera County, MT             1  FIPS:30073\n",
       "3    1893-02-01  2025-04-09  Powder River County, MT             1  FIPS:30075\n",
       "4    1893-01-01  2025-04-09        Powell County, MT             1  FIPS:30077\n",
       "..          ...         ...                      ...           ...         ...\n",
       "995  1912-09-01  2025-04-09        Goliad County, TX             1  FIPS:48175\n",
       "996  1915-04-01  2025-04-09      Gonzales County, TX             1  FIPS:48177\n",
       "997  1907-01-27  2025-04-09          Gray County, TX             1  FIPS:48179\n",
       "998  1897-05-01  2025-04-09       Grayson County, TX             1  FIPS:48181\n",
       "999  1902-01-01  2025-04-09         Gregg County, TX             1  FIPS:48183\n",
       "\n",
       "[1000 rows x 5 columns]"
      ]
     },
     "execution_count": 7,
     "metadata": {},
     "output_type": "execute_result"
    }
   ],
   "source": [
    "# Display contents of the DataFrame here.\n",
    "contents_dataframe"
   ]
  },
  {
   "cell_type": "markdown",
   "metadata": {},
   "source": [
    "How many records are in the DataFrame? How many columns does each record have? "
   ]
  },
  {
   "cell_type": "markdown",
   "metadata": {},
   "source": [
    "Filter the contents of the DataFrame to only show records where the name column contains the string \"Durham\"."
   ]
  },
  {
   "cell_type": "code",
   "execution_count": 8,
   "metadata": {},
   "outputs": [
    {
     "data": {
      "text/html": [
       "<div>\n",
       "<style scoped>\n",
       "    .dataframe tbody tr th:only-of-type {\n",
       "        vertical-align: middle;\n",
       "    }\n",
       "\n",
       "    .dataframe tbody tr th {\n",
       "        vertical-align: top;\n",
       "    }\n",
       "\n",
       "    .dataframe thead th {\n",
       "        text-align: right;\n",
       "    }\n",
       "</style>\n",
       "<table border=\"1\" class=\"dataframe\">\n",
       "  <thead>\n",
       "    <tr style=\"text-align: right;\">\n",
       "      <th></th>\n",
       "      <th>mindate</th>\n",
       "      <th>maxdate</th>\n",
       "      <th>name</th>\n",
       "      <th>datacoverage</th>\n",
       "      <th>id</th>\n",
       "    </tr>\n",
       "  </thead>\n",
       "  <tbody>\n",
       "    <tr>\n",
       "      <th>296</th>\n",
       "      <td>1891-01-01</td>\n",
       "      <td>2025-04-09</td>\n",
       "      <td>Durham County, NC</td>\n",
       "      <td>1</td>\n",
       "      <td>FIPS:37063</td>\n",
       "    </tr>\n",
       "  </tbody>\n",
       "</table>\n",
       "</div>"
      ],
      "text/plain": [
       "        mindate     maxdate               name  datacoverage          id\n",
       "296  1891-01-01  2025-04-09  Durham County, NC             1  FIPS:37063"
      ]
     },
     "execution_count": 8,
     "metadata": {},
     "output_type": "execute_result"
    }
   ],
   "source": [
    "#\n",
    "contents_dataframe.loc[contents_dataframe['name'].str.contains(\"Durham\")]"
   ]
  },
  {
   "cell_type": "markdown",
   "metadata": {},
   "source": [
    "## Read Multiple JSON Files"
   ]
  },
  {
   "cell_type": "markdown",
   "metadata": {},
   "source": [
    "Define a function called read_all_json_files. Given a string representing a path to a directory, this function should read all of the json files and return a Pandas DataFrame containing all of the objects. In addition to the data from the files, this DataFrame should also contain an additional column called \"source\". The source column should be populated with the name of the file from which this record originated from."
   ]
  },
  {
   "cell_type": "code",
   "execution_count": 9,
   "metadata": {},
   "outputs": [],
   "source": [
    "# implement me\n",
    "def read_all_json_files(dir_path):\n",
    "    pass\n",
    "    all_files = []\n",
    "    for filename in os.listdir(dir_path):\n",
    "        if filename.endswith(\".json\"):\n",
    "            file_path = os.path.join(dir_path, filename)\n",
    "            try:\n",
    "                with open(file_path, 'r') as file:\n",
    "                    data = json.load(file)\n",
    "                    if isinstance(data, list):\n",
    "                        for record in data:\n",
    "                            record['source'] = filename\n",
    "                            all_files.append(record)\n",
    "                    elif isinstance(data, dict):\n",
    "                        if 'results' in data and isinstance(data['results'], list):\n",
    "                            for record in data['results']:\n",
    "                                record['source'] = filename\n",
    "                                all_files.append(record)\n",
    "                        else:\n",
    "                            data['source'] = filename\n",
    "                            all_files.append(data)\n",
    "                    else:\n",
    "                        print(f\"Skipping '{filename}' as not .json\")\n",
    "            except FileNotFoundError:\n",
    "                print(f\"Error file not found\")\n",
    "                return None\n",
    "            except json.JSONDecodeError:\n",
    "                print(f\"Error could not decode\")\n",
    "                return None\n",
    "            except Exception as e:\n",
    "                print(f\"Unexpected error: {e}\")\n",
    "                return None\n",
    "    return pd.DataFrame(all_files)"
   ]
  },
  {
   "cell_type": "markdown",
   "metadata": {},
   "source": [
    "Use the read_all_json_files function above to read the contents of all locations file acquired in the the Data Acquisition Lab.  \n",
    "Hint: It is easier if you put all of those files in a dedicated subdirectory ex: (./data/locations/)"
   ]
  },
  {
   "cell_type": "code",
   "execution_count": 10,
   "metadata": {},
   "outputs": [],
   "source": [
    "df = read_all_json_files('./data/locations')"
   ]
  },
  {
   "cell_type": "markdown",
   "metadata": {},
   "source": [
    "What is the shape of the DataFrame? Does this match the number of columns and records you expected?"
   ]
  },
  {
   "cell_type": "code",
   "execution_count": 11,
   "metadata": {},
   "outputs": [
    {
     "data": {
      "text/plain": [
       "(38864, 6)"
      ]
     },
     "execution_count": 11,
     "metadata": {},
     "output_type": "execute_result"
    }
   ],
   "source": [
    "# Validate the shape of the DataFrame here\n",
    "df.shape"
   ]
  },
  {
   "cell_type": "markdown",
   "metadata": {},
   "source": [
    "Show the first few records of the DataFrame."
   ]
  },
  {
   "cell_type": "code",
   "execution_count": 12,
   "metadata": {},
   "outputs": [
    {
     "data": {
      "text/html": [
       "<div>\n",
       "<style scoped>\n",
       "    .dataframe tbody tr th:only-of-type {\n",
       "        vertical-align: middle;\n",
       "    }\n",
       "\n",
       "    .dataframe tbody tr th {\n",
       "        vertical-align: top;\n",
       "    }\n",
       "\n",
       "    .dataframe thead th {\n",
       "        text-align: right;\n",
       "    }\n",
       "</style>\n",
       "<table border=\"1\" class=\"dataframe\">\n",
       "  <thead>\n",
       "    <tr style=\"text-align: right;\">\n",
       "      <th></th>\n",
       "      <th>mindate</th>\n",
       "      <th>maxdate</th>\n",
       "      <th>name</th>\n",
       "      <th>datacoverage</th>\n",
       "      <th>id</th>\n",
       "      <th>source</th>\n",
       "    </tr>\n",
       "  </thead>\n",
       "  <tbody>\n",
       "    <tr>\n",
       "      <th>0</th>\n",
       "      <td>1997-03-06</td>\n",
       "      <td>2025-04-09</td>\n",
       "      <td>Grand Isle, VT 05458</td>\n",
       "      <td>0.95</td>\n",
       "      <td>ZIP:05458</td>\n",
       "      <td>locations_10.json</td>\n",
       "    </tr>\n",
       "    <tr>\n",
       "      <th>1</th>\n",
       "      <td>1948-05-01</td>\n",
       "      <td>2025-04-09</td>\n",
       "      <td>Highgate Center, VT 05459</td>\n",
       "      <td>1.00</td>\n",
       "      <td>ZIP:05459</td>\n",
       "      <td>locations_10.json</td>\n",
       "    </tr>\n",
       "    <tr>\n",
       "      <th>2</th>\n",
       "      <td>1995-05-08</td>\n",
       "      <td>2025-04-09</td>\n",
       "      <td>Hinesburg, VT 05461</td>\n",
       "      <td>1.00</td>\n",
       "      <td>ZIP:05461</td>\n",
       "      <td>locations_10.json</td>\n",
       "    </tr>\n",
       "    <tr>\n",
       "      <th>3</th>\n",
       "      <td>1955-11-01</td>\n",
       "      <td>2025-04-09</td>\n",
       "      <td>Huntington, VT 05462</td>\n",
       "      <td>1.00</td>\n",
       "      <td>ZIP:05462</td>\n",
       "      <td>locations_10.json</td>\n",
       "    </tr>\n",
       "    <tr>\n",
       "      <th>4</th>\n",
       "      <td>1997-03-06</td>\n",
       "      <td>2025-04-09</td>\n",
       "      <td>Isle la Motte, VT 05463</td>\n",
       "      <td>0.95</td>\n",
       "      <td>ZIP:05463</td>\n",
       "      <td>locations_10.json</td>\n",
       "    </tr>\n",
       "  </tbody>\n",
       "</table>\n",
       "</div>"
      ],
      "text/plain": [
       "      mindate     maxdate                       name  datacoverage         id  \\\n",
       "0  1997-03-06  2025-04-09       Grand Isle, VT 05458          0.95  ZIP:05458   \n",
       "1  1948-05-01  2025-04-09  Highgate Center, VT 05459          1.00  ZIP:05459   \n",
       "2  1995-05-08  2025-04-09        Hinesburg, VT 05461          1.00  ZIP:05461   \n",
       "3  1955-11-01  2025-04-09       Huntington, VT 05462          1.00  ZIP:05462   \n",
       "4  1997-03-06  2025-04-09    Isle la Motte, VT 05463          0.95  ZIP:05463   \n",
       "\n",
       "              source  \n",
       "0  locations_10.json  \n",
       "1  locations_10.json  \n",
       "2  locations_10.json  \n",
       "3  locations_10.json  \n",
       "4  locations_10.json  "
      ]
     },
     "execution_count": 12,
     "metadata": {},
     "output_type": "execute_result"
    }
   ],
   "source": [
    "# Show the first few records\n",
    "df.head()"
   ]
  },
  {
   "cell_type": "markdown",
   "metadata": {},
   "source": [
    "Show the last few records of the DataFrame."
   ]
  },
  {
   "cell_type": "code",
   "execution_count": 13,
   "metadata": {},
   "outputs": [
    {
     "data": {
      "text/html": [
       "<div>\n",
       "<style scoped>\n",
       "    .dataframe tbody tr th:only-of-type {\n",
       "        vertical-align: middle;\n",
       "    }\n",
       "\n",
       "    .dataframe tbody tr th {\n",
       "        vertical-align: top;\n",
       "    }\n",
       "\n",
       "    .dataframe thead th {\n",
       "        text-align: right;\n",
       "    }\n",
       "</style>\n",
       "<table border=\"1\" class=\"dataframe\">\n",
       "  <thead>\n",
       "    <tr style=\"text-align: right;\">\n",
       "      <th></th>\n",
       "      <th>mindate</th>\n",
       "      <th>maxdate</th>\n",
       "      <th>name</th>\n",
       "      <th>datacoverage</th>\n",
       "      <th>id</th>\n",
       "      <th>source</th>\n",
       "    </tr>\n",
       "  </thead>\n",
       "  <tbody>\n",
       "    <tr>\n",
       "      <th>38859</th>\n",
       "      <td>1899-10-01</td>\n",
       "      <td>2025-04-09</td>\n",
       "      <td>Lansdale, PA 19446</td>\n",
       "      <td>1.00</td>\n",
       "      <td>ZIP:19446</td>\n",
       "      <td>locations_13.json</td>\n",
       "    </tr>\n",
       "    <tr>\n",
       "      <th>38860</th>\n",
       "      <td>1994-06-15</td>\n",
       "      <td>2025-04-09</td>\n",
       "      <td>Mont Clare, PA 19453</td>\n",
       "      <td>0.95</td>\n",
       "      <td>ZIP:19453</td>\n",
       "      <td>locations_13.json</td>\n",
       "    </tr>\n",
       "    <tr>\n",
       "      <th>38861</th>\n",
       "      <td>1972-01-01</td>\n",
       "      <td>2025-04-09</td>\n",
       "      <td>North Wales, PA 19454</td>\n",
       "      <td>1.00</td>\n",
       "      <td>ZIP:19454</td>\n",
       "      <td>locations_13.json</td>\n",
       "    </tr>\n",
       "    <tr>\n",
       "      <th>38862</th>\n",
       "      <td>1894-01-01</td>\n",
       "      <td>2025-04-09</td>\n",
       "      <td>Phoenixville, PA 19460</td>\n",
       "      <td>1.00</td>\n",
       "      <td>ZIP:19460</td>\n",
       "      <td>locations_13.json</td>\n",
       "    </tr>\n",
       "    <tr>\n",
       "      <th>38863</th>\n",
       "      <td>1994-06-15</td>\n",
       "      <td>2025-04-09</td>\n",
       "      <td>Plymouth Meeting, PA 19462</td>\n",
       "      <td>0.95</td>\n",
       "      <td>ZIP:19462</td>\n",
       "      <td>locations_13.json</td>\n",
       "    </tr>\n",
       "  </tbody>\n",
       "</table>\n",
       "</div>"
      ],
      "text/plain": [
       "          mindate     maxdate                        name  datacoverage  \\\n",
       "38859  1899-10-01  2025-04-09          Lansdale, PA 19446          1.00   \n",
       "38860  1994-06-15  2025-04-09        Mont Clare, PA 19453          0.95   \n",
       "38861  1972-01-01  2025-04-09       North Wales, PA 19454          1.00   \n",
       "38862  1894-01-01  2025-04-09      Phoenixville, PA 19460          1.00   \n",
       "38863  1994-06-15  2025-04-09  Plymouth Meeting, PA 19462          0.95   \n",
       "\n",
       "              id             source  \n",
       "38859  ZIP:19446  locations_13.json  \n",
       "38860  ZIP:19453  locations_13.json  \n",
       "38861  ZIP:19454  locations_13.json  \n",
       "38862  ZIP:19460  locations_13.json  \n",
       "38863  ZIP:19462  locations_13.json  "
      ]
     },
     "execution_count": 13,
     "metadata": {},
     "output_type": "execute_result"
    }
   ],
   "source": [
    "# Show the last few records\n",
    "df.tail()"
   ]
  },
  {
   "cell_type": "markdown",
   "metadata": {},
   "source": [
    "## Validate Records Are Unique"
   ]
  },
  {
   "cell_type": "markdown",
   "metadata": {},
   "source": [
    "Provide two different ways to determine there are no duplicate records.  \n",
    "Hint: The id field should be unique."
   ]
  },
  {
   "cell_type": "code",
   "execution_count": 26,
   "metadata": {},
   "outputs": [
    {
     "name": "stdout",
     "output_type": "stream",
     "text": [
      "No duplicates\n"
     ]
    }
   ],
   "source": [
    "# one day to determine there are not duplicate records\n",
    "total_rows = len(df)\n",
    "unique_rows = len(df.drop_duplicates())\n",
    "if total_rows == unique_rows:\n",
    "    print(\"No duplicates\")\n",
    "else:\n",
    "    print(\"Duplicates\")"
   ]
  },
  {
   "cell_type": "code",
   "execution_count": 32,
   "metadata": {},
   "outputs": [
    {
     "data": {
      "text/plain": [
       "False"
      ]
     },
     "execution_count": 32,
     "metadata": {},
     "output_type": "execute_result"
    }
   ],
   "source": [
    "# another way to determine there are no duplicate records\n",
    "#unique_ids = df['id'].nunique() does not work to compare as total_rows has header\n",
    "def duplicate(df):    \n",
    "    seen_ids = set()\n",
    "    for index, row in df.iterrows():\n",
    "        current_id = row['id']\n",
    "        if current_id in seen_ids:\n",
    "            return True  # Found a duplicate\n",
    "            seen_ids.add(current_id)\n",
    "    return False\n",
    "\n",
    "duplicate(df)"
   ]
  },
  {
   "cell_type": "markdown",
   "metadata": {},
   "source": [
    "# Peking In"
   ]
  },
  {
   "cell_type": "markdown",
   "metadata": {},
   "source": [
    "Show the record with id \"CITY:TU000041\". Which file did it come from? "
   ]
  },
  {
   "cell_type": "code",
   "execution_count": 20,
   "metadata": {},
   "outputs": [
    {
     "data": {
      "text/html": [
       "<div>\n",
       "<style scoped>\n",
       "    .dataframe tbody tr th:only-of-type {\n",
       "        vertical-align: middle;\n",
       "    }\n",
       "\n",
       "    .dataframe tbody tr th {\n",
       "        vertical-align: top;\n",
       "    }\n",
       "\n",
       "    .dataframe thead th {\n",
       "        text-align: right;\n",
       "    }\n",
       "</style>\n",
       "<table border=\"1\" class=\"dataframe\">\n",
       "  <thead>\n",
       "    <tr style=\"text-align: right;\">\n",
       "      <th></th>\n",
       "      <th>mindate</th>\n",
       "      <th>maxdate</th>\n",
       "      <th>name</th>\n",
       "      <th>datacoverage</th>\n",
       "      <th>id</th>\n",
       "      <th>source</th>\n",
       "    </tr>\n",
       "  </thead>\n",
       "  <tbody>\n",
       "    <tr>\n",
       "      <th>30866</th>\n",
       "      <td>1974-08-01</td>\n",
       "      <td>2025-04-07</td>\n",
       "      <td>Mersin, TU</td>\n",
       "      <td>1.0</td>\n",
       "      <td>CITY:TU000041</td>\n",
       "      <td>locations_1.json</td>\n",
       "    </tr>\n",
       "  </tbody>\n",
       "</table>\n",
       "</div>"
      ],
      "text/plain": [
       "          mindate     maxdate        name  datacoverage             id  \\\n",
       "30866  1974-08-01  2025-04-07  Mersin, TU           1.0  CITY:TU000041   \n",
       "\n",
       "                 source  \n",
       "30866  locations_1.json  "
      ]
     },
     "execution_count": 20,
     "metadata": {},
     "output_type": "execute_result"
    }
   ],
   "source": [
    "# \n",
    "df[df['id'] == \"CITY:TU000041\"]"
   ]
  },
  {
   "cell_type": "markdown",
   "metadata": {},
   "source": [
    "Show the record with id \"CLIM:0405\". Which file did it come from? "
   ]
  },
  {
   "cell_type": "code",
   "execution_count": 21,
   "metadata": {},
   "outputs": [
    {
     "data": {
      "text/html": [
       "<div>\n",
       "<style scoped>\n",
       "    .dataframe tbody tr th:only-of-type {\n",
       "        vertical-align: middle;\n",
       "    }\n",
       "\n",
       "    .dataframe tbody tr th {\n",
       "        vertical-align: top;\n",
       "    }\n",
       "\n",
       "    .dataframe thead th {\n",
       "        text-align: right;\n",
       "    }\n",
       "</style>\n",
       "<table border=\"1\" class=\"dataframe\">\n",
       "  <thead>\n",
       "    <tr style=\"text-align: right;\">\n",
       "      <th></th>\n",
       "      <th>mindate</th>\n",
       "      <th>maxdate</th>\n",
       "      <th>name</th>\n",
       "      <th>datacoverage</th>\n",
       "      <th>id</th>\n",
       "      <th>source</th>\n",
       "    </tr>\n",
       "  </thead>\n",
       "  <tbody>\n",
       "    <tr>\n",
       "      <th>4002</th>\n",
       "      <td>1893-10-10</td>\n",
       "      <td>2025-04-09</td>\n",
       "      <td>Southwest Arizona Climate Division</td>\n",
       "      <td>1.0</td>\n",
       "      <td>CLIM:0405</td>\n",
       "      <td>locations_2.json</td>\n",
       "    </tr>\n",
       "  </tbody>\n",
       "</table>\n",
       "</div>"
      ],
      "text/plain": [
       "         mindate     maxdate                                name  \\\n",
       "4002  1893-10-10  2025-04-09  Southwest Arizona Climate Division   \n",
       "\n",
       "      datacoverage         id            source  \n",
       "4002           1.0  CLIM:0405  locations_2.json  "
      ]
     },
     "execution_count": 21,
     "metadata": {},
     "output_type": "execute_result"
    }
   ],
   "source": [
    "# \n",
    "df[df['id'] == \"CLIM:0405\"]"
   ]
  },
  {
   "cell_type": "markdown",
   "metadata": {},
   "source": [
    "How many unique values are there for the source column in the DataFrame?"
   ]
  },
  {
   "cell_type": "code",
   "execution_count": 40,
   "metadata": {},
   "outputs": [
    {
     "data": {
      "text/plain": [
       "40"
      ]
     },
     "execution_count": 40,
     "metadata": {},
     "output_type": "execute_result"
    }
   ],
   "source": [
    "# \n",
    "def source_duplicates(df):    \n",
    "    seen_sources = set()\n",
    "    for index, row in df.iterrows():\n",
    "        current_source = row['source']\n",
    "        seen_sources.add(current_source)\n",
    "    return len(seen_sources)\n",
    "\n",
    "source_duplicates(df)"
   ]
  },
  {
   "cell_type": "markdown",
   "metadata": {},
   "source": [
    "This is due to a locations_0.json and an empty locations_39.json I believe. Which is shown below...."
   ]
  },
  {
   "cell_type": "code",
   "execution_count": 43,
   "metadata": {},
   "outputs": [
    {
     "data": {
      "text/plain": [
       "{'locations_0.json',\n",
       " 'locations_1.json',\n",
       " 'locations_10.json',\n",
       " 'locations_11.json',\n",
       " 'locations_12.json',\n",
       " 'locations_13.json',\n",
       " 'locations_14.json',\n",
       " 'locations_15.json',\n",
       " 'locations_16.json',\n",
       " 'locations_17.json',\n",
       " 'locations_18.json',\n",
       " 'locations_19.json',\n",
       " 'locations_2.json',\n",
       " 'locations_20.json',\n",
       " 'locations_21.json',\n",
       " 'locations_22.json',\n",
       " 'locations_23.json',\n",
       " 'locations_24.json',\n",
       " 'locations_25.json',\n",
       " 'locations_26.json',\n",
       " 'locations_27.json',\n",
       " 'locations_28.json',\n",
       " 'locations_29.json',\n",
       " 'locations_3.json',\n",
       " 'locations_30.json',\n",
       " 'locations_31.json',\n",
       " 'locations_32.json',\n",
       " 'locations_33.json',\n",
       " 'locations_34.json',\n",
       " 'locations_35.json',\n",
       " 'locations_36.json',\n",
       " 'locations_37.json',\n",
       " 'locations_38.json',\n",
       " 'locations_39.json',\n",
       " 'locations_4.json',\n",
       " 'locations_5.json',\n",
       " 'locations_6.json',\n",
       " 'locations_7.json',\n",
       " 'locations_8.json',\n",
       " 'locations_9.json'}"
      ]
     },
     "execution_count": 43,
     "metadata": {},
     "output_type": "execute_result"
    }
   ],
   "source": [
    "def source_duplicates_2(df):    \n",
    "    seen_sources = set()\n",
    "    for index, row in df.iterrows():\n",
    "        current_source = row['source']\n",
    "        seen_sources.add(current_source)\n",
    "    return seen_sources\n",
    "\n",
    "source_duplicates_2(df)"
   ]
  },
  {
   "cell_type": "markdown",
   "metadata": {},
   "source": [
    "How many records did the locations_38.json file contain?"
   ]
  },
  {
   "cell_type": "code",
   "execution_count": 35,
   "metadata": {},
   "outputs": [
    {
     "data": {
      "text/html": [
       "<div>\n",
       "<style scoped>\n",
       "    .dataframe tbody tr th:only-of-type {\n",
       "        vertical-align: middle;\n",
       "    }\n",
       "\n",
       "    .dataframe tbody tr th {\n",
       "        vertical-align: top;\n",
       "    }\n",
       "\n",
       "    .dataframe thead th {\n",
       "        text-align: right;\n",
       "    }\n",
       "</style>\n",
       "<table border=\"1\" class=\"dataframe\">\n",
       "  <thead>\n",
       "    <tr style=\"text-align: right;\">\n",
       "      <th></th>\n",
       "      <th>mindate</th>\n",
       "      <th>maxdate</th>\n",
       "      <th>name</th>\n",
       "      <th>datacoverage</th>\n",
       "      <th>id</th>\n",
       "      <th>source</th>\n",
       "    </tr>\n",
       "  </thead>\n",
       "  <tbody>\n",
       "    <tr>\n",
       "      <th>23000</th>\n",
       "      <td>1932-01-16</td>\n",
       "      <td>2025-04-09</td>\n",
       "      <td>Westlake, OR 97493</td>\n",
       "      <td>0.9999</td>\n",
       "      <td>ZIP:97493</td>\n",
       "      <td>locations_38.json</td>\n",
       "    </tr>\n",
       "    <tr>\n",
       "      <th>23001</th>\n",
       "      <td>1996-04-30</td>\n",
       "      <td>2025-04-09</td>\n",
       "      <td>Winchester, OR 97495</td>\n",
       "      <td>1.0000</td>\n",
       "      <td>ZIP:97495</td>\n",
       "      <td>locations_38.json</td>\n",
       "    </tr>\n",
       "    <tr>\n",
       "      <th>23002</th>\n",
       "      <td>1978-01-01</td>\n",
       "      <td>2025-04-09</td>\n",
       "      <td>Winston, OR 97496</td>\n",
       "      <td>1.0000</td>\n",
       "      <td>ZIP:97496</td>\n",
       "      <td>locations_38.json</td>\n",
       "    </tr>\n",
       "    <tr>\n",
       "      <th>23003</th>\n",
       "      <td>1898-03-19</td>\n",
       "      <td>2025-04-09</td>\n",
       "      <td>Wolf Creek, OR 97497</td>\n",
       "      <td>1.0000</td>\n",
       "      <td>ZIP:97497</td>\n",
       "      <td>locations_38.json</td>\n",
       "    </tr>\n",
       "    <tr>\n",
       "      <th>23004</th>\n",
       "      <td>1995-07-12</td>\n",
       "      <td>2025-04-09</td>\n",
       "      <td>Yachats, OR 97498</td>\n",
       "      <td>1.0000</td>\n",
       "      <td>ZIP:97498</td>\n",
       "      <td>locations_38.json</td>\n",
       "    </tr>\n",
       "    <tr>\n",
       "      <th>...</th>\n",
       "      <td>...</td>\n",
       "      <td>...</td>\n",
       "      <td>...</td>\n",
       "      <td>...</td>\n",
       "      <td>...</td>\n",
       "      <td>...</td>\n",
       "    </tr>\n",
       "    <tr>\n",
       "      <th>23858</th>\n",
       "      <td>1997-07-01</td>\n",
       "      <td>2025-04-09</td>\n",
       "      <td>Klawock, AK 99925</td>\n",
       "      <td>1.0000</td>\n",
       "      <td>ZIP:99925</td>\n",
       "      <td>locations_38.json</td>\n",
       "    </tr>\n",
       "    <tr>\n",
       "      <th>23859</th>\n",
       "      <td>1893-01-01</td>\n",
       "      <td>2025-04-09</td>\n",
       "      <td>Metlakatla, AK 99926</td>\n",
       "      <td>1.0000</td>\n",
       "      <td>ZIP:99926</td>\n",
       "      <td>locations_38.json</td>\n",
       "    </tr>\n",
       "    <tr>\n",
       "      <th>23860</th>\n",
       "      <td>1984-05-30</td>\n",
       "      <td>2025-04-09</td>\n",
       "      <td>Point Baker, AK 99927</td>\n",
       "      <td>1.0000</td>\n",
       "      <td>ZIP:99927</td>\n",
       "      <td>locations_38.json</td>\n",
       "    </tr>\n",
       "    <tr>\n",
       "      <th>23861</th>\n",
       "      <td>1917-11-01</td>\n",
       "      <td>2025-04-09</td>\n",
       "      <td>Wrangell, AK 99929</td>\n",
       "      <td>1.0000</td>\n",
       "      <td>ZIP:99929</td>\n",
       "      <td>locations_38.json</td>\n",
       "    </tr>\n",
       "    <tr>\n",
       "      <th>23862</th>\n",
       "      <td>1918-09-01</td>\n",
       "      <td>2025-04-09</td>\n",
       "      <td>Ketchikan, AK 99950</td>\n",
       "      <td>1.0000</td>\n",
       "      <td>ZIP:99950</td>\n",
       "      <td>locations_38.json</td>\n",
       "    </tr>\n",
       "  </tbody>\n",
       "</table>\n",
       "<p>863 rows × 6 columns</p>\n",
       "</div>"
      ],
      "text/plain": [
       "          mindate     maxdate                   name  datacoverage         id  \\\n",
       "23000  1932-01-16  2025-04-09     Westlake, OR 97493        0.9999  ZIP:97493   \n",
       "23001  1996-04-30  2025-04-09   Winchester, OR 97495        1.0000  ZIP:97495   \n",
       "23002  1978-01-01  2025-04-09      Winston, OR 97496        1.0000  ZIP:97496   \n",
       "23003  1898-03-19  2025-04-09   Wolf Creek, OR 97497        1.0000  ZIP:97497   \n",
       "23004  1995-07-12  2025-04-09      Yachats, OR 97498        1.0000  ZIP:97498   \n",
       "...           ...         ...                    ...           ...        ...   \n",
       "23858  1997-07-01  2025-04-09      Klawock, AK 99925        1.0000  ZIP:99925   \n",
       "23859  1893-01-01  2025-04-09   Metlakatla, AK 99926        1.0000  ZIP:99926   \n",
       "23860  1984-05-30  2025-04-09  Point Baker, AK 99927        1.0000  ZIP:99927   \n",
       "23861  1917-11-01  2025-04-09     Wrangell, AK 99929        1.0000  ZIP:99929   \n",
       "23862  1918-09-01  2025-04-09    Ketchikan, AK 99950        1.0000  ZIP:99950   \n",
       "\n",
       "                  source  \n",
       "23000  locations_38.json  \n",
       "23001  locations_38.json  \n",
       "23002  locations_38.json  \n",
       "23003  locations_38.json  \n",
       "23004  locations_38.json  \n",
       "...                  ...  \n",
       "23858  locations_38.json  \n",
       "23859  locations_38.json  \n",
       "23860  locations_38.json  \n",
       "23861  locations_38.json  \n",
       "23862  locations_38.json  \n",
       "\n",
       "[863 rows x 6 columns]"
      ]
     },
     "execution_count": 35,
     "metadata": {},
     "output_type": "execute_result"
    }
   ],
   "source": [
    "# \n",
    "df[df['source'] == \"locations_38.json\"]"
   ]
  },
  {
   "cell_type": "markdown",
   "metadata": {},
   "source": [
    "We will work with this DataFrame in a subsequent part of the lab. Instead of repeating all of this work again, let's export the DataFrame to a pickled file."
   ]
  },
  {
   "cell_type": "code",
   "execution_count": 44,
   "metadata": {},
   "outputs": [],
   "source": [
    "# export DataFrame to a pickled file called locations_data_frame.pickle. Save it to the data directory.\n",
    "df.to_pickle('locations_data_frame.pickle')"
   ]
  },
  {
   "cell_type": "code",
   "execution_count": null,
   "metadata": {},
   "outputs": [],
   "source": []
  }
 ],
 "metadata": {
  "kernelspec": {
   "display_name": "Python 3 (ipykernel)",
   "language": "python",
   "name": "python3"
  },
  "language_info": {
   "codemirror_mode": {
    "name": "ipython",
    "version": 3
   },
   "file_extension": ".py",
   "mimetype": "text/x-python",
   "name": "python",
   "nbconvert_exporter": "python",
   "pygments_lexer": "ipython3",
   "version": "3.11.11"
  }
 },
 "nbformat": 4,
 "nbformat_minor": 4
}
